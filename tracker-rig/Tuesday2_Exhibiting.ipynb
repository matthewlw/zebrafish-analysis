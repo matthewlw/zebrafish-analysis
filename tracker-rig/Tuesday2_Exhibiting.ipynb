{
 "cells": [
  {
   "cell_type": "code",
   "execution_count": 1,
   "metadata": {},
   "outputs": [],
   "source": [
    "import extract_eye_models\n",
    "import numpy as np\n",
    "from skimage.io import imread\n",
    "import matplotlib.pyplot as plt\n",
    "\n",
    "try:\n",
    "    from tqdm import trange\n",
    "except ImportError:\n",
    "    trange = range"
   ]
  },
  {
   "cell_type": "markdown",
   "metadata": {},
   "source": [
    "The first task is calculating a threshold. In my experience, this seems to stay pretty constant, so I don't bother doing the computational work of calculating it anew for every frame. This does limit the applicability somewhat; for instance, background-subtracted images tend to fluctuate in brightness, breaking this assumption.\n",
    "\n",
    "The thresholding algorithm is called Intermodes, and it works by putting the thresholds in between the two peaks of the image brightness histogram. If there are more than two peaks, it smooths out the histogram until there are only two. Experimentally, it works much better than Otsu's method on differentiating the eyes from the background (try it out in ImageJ)."
   ]
  },
  {
   "cell_type": "code",
   "execution_count": 2,
   "metadata": {},
   "outputs": [
    {
     "name": "stdout",
     "output_type": "stream",
     "text": [
      "73\n"
     ]
    }
   ],
   "source": [
    "img0 = imread('Z:/TrackerRig/2018-02-15/SequenceB00000000.tif')\n",
    "threshold = extract_eye_models.intermodes(img0)\n",
    "print(threshold)"
   ]
  },
  {
   "cell_type": "markdown",
   "metadata": {},
   "source": [
    "This is the most important part of the program. `extract_eye_models` detects blobs of pixels that approximate the eyes. It returns an array of two eyes, which it represents with the following tuple of properties:\n",
    "* x-coordinate of center\n",
    "* y-coordinate of center\n",
    "* major axis length\n",
    "* minor axis length\n",
    "* orientation"
   ]
  },
  {
   "cell_type": "code",
   "execution_count": 3,
   "metadata": {},
   "outputs": [
    {
     "name": "stderr",
     "output_type": "stream",
     "text": [
      "100%|██████████| 3000/3000 [09:19<00:00,  5.36it/s]\n"
     ]
    }
   ],
   "source": [
    "eyes1 = []\n",
    "eyes2 = []\n",
    "for i in trange(3000):\n",
    "    img = imread('Z:/TrackerRig/2018-02-15/SequenceB{:08d}.tif'.format(i))\n",
    "    [eye1, eye2] = extract_eye_models.eye_models(img < threshold)\n",
    "    eyes1.append(eye1)\n",
    "    eyes2.append(eye2)"
   ]
  },
  {
   "cell_type": "markdown",
   "metadata": {},
   "source": [
    "This part ensures that which eye is which is consistent across multiple frames, so that it becomes meaningful to look at the orientation of a single eye over time. Eye A or B does not necessarily correspond to left or right, but a program to determine that would now only need to examine the first frame, and this function could take it from there. It does this\n",
    "by looking for the eye blob closest to the eye blob in the previous frame."
   ]
  },
  {
   "cell_type": "code",
   "execution_count": 4,
   "metadata": {},
   "outputs": [],
   "source": [
    "eyesA, eyesB = extract_eye_models.correlate(eyes1, eyes2)"
   ]
  },
  {
   "cell_type": "markdown",
   "metadata": {},
   "source": [
    "This extracts the orientation of each eye (index 4 in the tuple), and computes the angle difference (in radians). This does not just use subtraction, so it is a valid measure of the seperation of the angles."
   ]
  },
  {
   "cell_type": "code",
   "execution_count": 5,
   "metadata": {},
   "outputs": [],
   "source": [
    "Δθ = extract_eye_models.angle_difference(np.array(eyesA)[:, 4], np.array(eyesB)[:, 4])"
   ]
  },
  {
   "cell_type": "code",
   "execution_count": 10,
   "metadata": {},
   "outputs": [
    {
     "data": {
      "image/png": "[encoded data removed]",
      "text/plain": [
       "<Figure size 432x288 with 1 Axes>"
      ]
     },
     "metadata": {},
     "output_type": "display_data"
    }
   ],
   "source": [
    "plt.plot(Δθ)\n",
    "plt.show()"
   ]
  },
  {
   "cell_type": "markdown",
   "metadata": {},
   "source": [
    "This graph shows a really sharp spike right around index 2650, and indeed if you open the files, you see a pretty dramatic inward orientation of the eyes."
   ]
  }
 ],
 "metadata": {
  "kernelspec": {
   "display_name": "Python 3",
   "language": "python",
   "name": "python3"
  },
  "language_info": {
   "codemirror_mode": {
    "name": "ipython",
    "version": 3
   },
   "file_extension": ".py",
   "mimetype": "text/x-python",
   "name": "python",
   "nbconvert_exporter": "python",
   "pygments_lexer": "ipython3",
   "version": "3.6.5"
  }
 },
 "nbformat": 4,
 "nbformat_minor": 2
}
